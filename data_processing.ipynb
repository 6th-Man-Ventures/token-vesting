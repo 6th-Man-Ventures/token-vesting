{
 "cells": [
  {
   "cell_type": "code",
   "execution_count": 1,
   "metadata": {},
   "outputs": [],
   "source": [
    "import pandas as pd\n",
    "from data.vesting_data import public_allocations, private_allocations\n",
    "from utils.daily_charts import *\n",
    "from utils.api import get_historical_data\n",
    "from utils.data_processing import convert_vesting_data_to_df\n",
    "\n",
    "pd.options.mode.chained_assignment = None  # default='warn'"
   ]
  },
  {
   "cell_type": "markdown",
   "metadata": {},
   "source": [
    "### Data Processing Notebook\n",
    "\n",
    "In this notebook, we take the simple data in vesting_data.py and turn it into daily unlock tables with corresponding price data, supply data, and other metrics added as columns to aid in our analysis. This creates a large table of data for each token, which is then packaged into an excel notebook with a different sheet for each token.\n",
    "\n",
    "First, we import the token metadata and convert it into daily tables."
   ]
  },
  {
   "cell_type": "code",
   "execution_count": 2,
   "metadata": {},
   "outputs": [],
   "source": [
    "private_allocations = convert_vesting_data_to_df(private_allocations)\n",
    "public_allocations = convert_vesting_data_to_df(public_allocations)"
   ]
  },
  {
   "cell_type": "code",
   "execution_count": 3,
   "metadata": {},
   "outputs": [],
   "source": [
    "for name in private_allocations:\n",
    "    data = private_allocations[name][\"vesting\"]\n",
    "    data[\"start\"] = df_column_to_datetime(data[\"start\"])\n",
    "    data[\"end\"] = df_column_to_datetime(data[\"end\"])\n",
    "    vest_schedule = create_empty_vest_schedule(data, 'group', 'start', 'end')\n",
    "    vest_schedule = populate_vest_schedule(data, vest_schedule)\n",
    "    private_allocations[name][\"daily_table\"] = vest_schedule\n",
    "\n",
    "for name in public_allocations:\n",
    "    data = public_allocations[name][\"vesting\"]\n",
    "    data[\"start\"] = df_column_to_datetime(data[\"start\"])\n",
    "    data[\"end\"] = df_column_to_datetime(data[\"end\"])\n",
    "    vest_schedule = create_empty_vest_schedule(data, 'group', 'start', 'end')\n",
    "    vest_schedule = populate_vest_schedule(data, vest_schedule)\n",
    "    public_allocations[name][\"daily_table\"] = vest_schedule"
   ]
  },
  {
   "cell_type": "markdown",
   "metadata": {},
   "source": [
    "For both private allocations and private allocations, we add several new columns, including percent changes in supply and price, circulating supply, total supply, and normalized prices. "
   ]
  },
  {
   "cell_type": "code",
   "execution_count": 4,
   "metadata": {},
   "outputs": [],
   "source": [
    "\n",
    "for id in private_allocations:\n",
    "    table = private_allocations[id][\"daily_table\"]\n",
    "    start = table.index[0]\n",
    "    end = table.index[-1]\n",
    "    hist_data = get_historical_data(id, start, end)\n",
    "    \n",
    "    \n",
    "    if hist_data.empty:\n",
    "        continue\n",
    "    else:\n",
    "        joined = table.join(hist_data) \n",
    "        private_allocations[id][\"daily_table\"] = joined[joined['price'].notna()] \n",
    "        private_allocations[id][\"daily_table\"] = joined[joined['circulating_supply'].notna()] \n",
    "        private_allocations[id][\"eth\"] = joined[joined['eth'].notna()]\n",
    "        private_allocations[id][\"daily_table\"][\"p_change_supply\"] = (private_allocations[id][\"daily_table\"][\"Daily Vest\"] / private_allocations[id][\"daily_table\"][\"circulating_supply\"]) * 100\n",
    "        private_allocations[id][\"daily_table\"][\"p_change_price\"] = private_allocations[id][\"daily_table\"][\"price\"].pct_change() * 100\n",
    "        private_allocations[id][\"daily_table\"][\"p_change_macro\"] = private_allocations[id][\"daily_table\"][\"eth\"].pct_change() * 100\n",
    "        private_allocations[id][\"daily_table\"][\"normed_price\"] = (private_allocations[id][\"daily_table\"][\"price\"] - private_allocations[id][\"daily_table\"][\"price\"].min()) / (private_allocations[id][\"daily_table\"][\"price\"].max() - private_allocations[id][\"daily_table\"][\"price\"].min())\n",
    "        private_allocations[id][\"daily_table\"][\"total_supply\"] = private_allocations[id][\"total_supply\"]"
   ]
  },
  {
   "cell_type": "code",
   "execution_count": 5,
   "metadata": {},
   "outputs": [],
   "source": [
    "\n",
    "for id in public_allocations:\n",
    "    table = public_allocations[id][\"daily_table\"]\n",
    "    start = table.index[0]\n",
    "    end = table.index[-1]\n",
    "    hist_data = get_historical_data(id, start, end)\n",
    "    \n",
    "    \n",
    "    if hist_data.empty:\n",
    "        continue\n",
    "    else:\n",
    "        joined = table.join(hist_data) \n",
    "        public_allocations[id][\"daily_table\"] = joined[joined['price'].notna()] \n",
    "        public_allocations[id][\"daily_table\"] = joined[joined['circulating_supply'].notna()] \n",
    "        public_allocations[id][\"eth\"] = joined[joined['eth'].notna()]\n",
    "        public_allocations[id][\"daily_table\"][\"p_change_supply\"] = (public_allocations[id][\"daily_table\"][\"Daily Vest\"] / public_allocations[id][\"daily_table\"][\"circulating_supply\"]) * 100\n",
    "        public_allocations[id][\"daily_table\"][\"p_change_price\"] = public_allocations[id][\"daily_table\"][\"price\"].pct_change() * 100\n",
    "        public_allocations[id][\"daily_table\"][\"p_change_macro\"] = public_allocations[id][\"daily_table\"][\"eth\"].pct_change() * 100\n",
    "        public_allocations[id][\"daily_table\"][\"normed_price\"] = (public_allocations[id][\"daily_table\"][\"price\"] - public_allocations[id][\"daily_table\"][\"price\"].min()) / (public_allocations[id][\"daily_table\"][\"price\"].max() - public_allocations[id][\"daily_table\"][\"price\"].min())\n",
    "        public_allocations[id][\"daily_table\"][\"total_supply\"] = public_allocations[id][\"total_supply\"]"
   ]
  },
  {
   "cell_type": "markdown",
   "metadata": {},
   "source": [
    "We write both sets to excel notebooks, which are then unpacked and iterated over for analysis in analysis.ipynb."
   ]
  },
  {
   "cell_type": "code",
   "execution_count": 6,
   "metadata": {},
   "outputs": [],
   "source": [
    "writer = pd.ExcelWriter(\"data/daily_unlocks/daily_tables_internal.xlsx\", engine=\"xlsxwriter\")\n",
    "\n",
    "for id in private_allocations:\n",
    "    private_allocations[id][\"daily_table\"].to_excel(writer, sheet_name=id)\n",
    "\n",
    "writer.close()"
   ]
  },
  {
   "cell_type": "code",
   "execution_count": 7,
   "metadata": {},
   "outputs": [],
   "source": [
    "writer = pd.ExcelWriter(\"data/daily_unlocks/daily_tables_external.xlsx\", engine=\"xlsxwriter\")\n",
    "\n",
    "for id in public_allocations:\n",
    "    public_allocations[id][\"daily_table\"].to_excel(writer, sheet_name=id)\n",
    "\n",
    "writer.close()"
   ]
  }
 ],
 "metadata": {
  "kernelspec": {
   "display_name": "Python 3.10.2 64-bit",
   "language": "python",
   "name": "python3"
  },
  "language_info": {
   "codemirror_mode": {
    "name": "ipython",
    "version": 3
   },
   "file_extension": ".py",
   "mimetype": "text/x-python",
   "name": "python",
   "nbconvert_exporter": "python",
   "pygments_lexer": "ipython3",
   "version": "3.10.2"
  },
  "orig_nbformat": 4,
  "vscode": {
   "interpreter": {
    "hash": "aee8b7b246df8f9039afb4144a1f6fd8d2ca17a180786b69acc140d282b71a49"
   }
  }
 },
 "nbformat": 4,
 "nbformat_minor": 2
}
